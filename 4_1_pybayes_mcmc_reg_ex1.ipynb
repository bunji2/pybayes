{
  "nbformat": 4,
  "nbformat_minor": 0,
  "metadata": {
    "colab": {
      "name": "4.1_pybayes_mcmc_reg_ex1.ipynb",
      "provenance": [],
      "collapsed_sections": []
    },
    "kernelspec": {
      "name": "python3",
      "display_name": "Python 3"
    }
  },
  "cells": [
    {
      "cell_type": "markdown",
      "metadata": {
        "id": "gH-oOtqdejzO",
        "colab_type": "text"
      },
      "source": [
        "P103 Python コード 4.1 pybayes_mcmc_reg_ex1.py\n",
        "回帰モデルのベイズ分析の写経\n",
        "\n",
        "★事前に google colab に登録しておき、google drive の Colab Notebooks フォルダの下に pybayes というフォルダを作っておくこと。"
      ]
    },
    {
      "cell_type": "markdown",
      "metadata": {
        "id": "owrZ8MYVUVb-",
        "colab_type": "text"
      },
      "source": [
        "このコードでは自然共益事前分布を使った場合の回帰モデルを例として取り上げ、このベイズ分析を PyMC によって実行する方法を説明している。\n",
        "本来は自然共益事前分布を使えばモンテカルロ法に頼る必要はないが、モテカルロ法でも同じ結果を再現できることを確認している。"
      ]
    },
    {
      "cell_type": "code",
      "metadata": {
        "id": "YKg6X9D_6wSF",
        "colab_type": "code",
        "outputId": "dde4efc0-c95a-4636-ae4a-cd41f485e331",
        "colab": {
          "base_uri": "https://localhost:8080/",
          "height": 233
        }
      },
      "source": [
        "# google colab のディストリビューションを確認しておく。Ubuntu のはず。\n",
        "!cat /etc/os-release"
      ],
      "execution_count": 1,
      "outputs": [
        {
          "output_type": "stream",
          "text": [
            "NAME=\"Ubuntu\"\n",
            "VERSION=\"18.04.3 LTS (Bionic Beaver)\"\n",
            "ID=ubuntu\n",
            "ID_LIKE=debian\n",
            "PRETTY_NAME=\"Ubuntu 18.04.3 LTS\"\n",
            "VERSION_ID=\"18.04\"\n",
            "HOME_URL=\"https://www.ubuntu.com/\"\n",
            "SUPPORT_URL=\"https://help.ubuntu.com/\"\n",
            "BUG_REPORT_URL=\"https://bugs.launchpad.net/ubuntu/\"\n",
            "PRIVACY_POLICY_URL=\"https://www.ubuntu.com/legal/terms-and-policies/privacy-policy\"\n",
            "VERSION_CODENAME=bionic\n",
            "UBUNTU_CODENAME=bionic\n"
          ],
          "name": "stdout"
        }
      ]
    },
    {
      "cell_type": "code",
      "metadata": {
        "id": "_t-3VMU9xMcY",
        "colab_type": "code",
        "outputId": "4c1e418c-ebc3-4647-c9bc-d7b699c778cb",
        "colab": {
          "base_uri": "https://localhost:8080/",
          "height": 161
        }
      },
      "source": [
        "# google colab には標準で日本語フォントがインストールされないので、日本語フォントをインストールしておく\n",
        "!sudo apt install fonts-takao"
      ],
      "execution_count": 2,
      "outputs": [
        {
          "output_type": "stream",
          "text": [
            "Reading package lists... Done\n",
            "Building dependency tree       \n",
            "Reading state information... Done\n",
            "fonts-takao is already the newest version (00303.01-2ubuntu1).\n",
            "The following package was automatically installed and is no longer required:\n",
            "  libnvidia-common-430\n",
            "Use 'sudo apt autoremove' to remove it.\n",
            "0 upgraded, 0 newly installed, 0 to remove and 25 not upgraded.\n"
          ],
          "name": "stdout"
        }
      ]
    },
    {
      "cell_type": "code",
      "metadata": {
        "id": "zPqhk1Vi3MDi",
        "colab_type": "code",
        "outputId": "12173e56-39cd-429f-d2fa-9228841b45e2",
        "colab": {
          "base_uri": "https://localhost:8080/",
          "height": 35
        }
      },
      "source": [
        "# 日本語フォント TakaoPGothic.ttf の有無を確認。\n",
        "!ls /usr/share/fonts/truetype/takao-gothic/TakaoPGothic.ttf"
      ],
      "execution_count": 3,
      "outputs": [
        {
          "output_type": "stream",
          "text": [
            "/usr/share/fonts/truetype/takao-gothic/TakaoPGothic.ttf\n"
          ],
          "name": "stdout"
        }
      ]
    },
    {
      "cell_type": "code",
      "metadata": {
        "id": "qVpCxzNNLSHa",
        "colab_type": "code",
        "outputId": "b3bb61eb-b87a-436c-ee5a-ef5f9406bfd7",
        "colab": {
          "base_uri": "https://localhost:8080/",
          "height": 1000
        }
      },
      "source": [
        "# PyMC3 のインストール\n",
        "\n",
        "#!pip install pymc3\n",
        "#!pip install arviz\n",
        "!pip install git+https://github.com/pymc-devs/pymc3\n",
        "!pip install git+git://github.com/arviz-devs/arviz.git"
      ],
      "execution_count": 4,
      "outputs": [
        {
          "output_type": "stream",
          "text": [
            "Collecting git+https://github.com/pymc-devs/pymc3\n",
            "  Cloning https://github.com/pymc-devs/pymc3 to /tmp/pip-req-build-sl4d7y7d\n",
            "  Running command git clone -q https://github.com/pymc-devs/pymc3 /tmp/pip-req-build-sl4d7y7d\n",
            "Requirement already satisfied (use --upgrade to upgrade): pymc3==3.8 from git+https://github.com/pymc-devs/pymc3 in /usr/local/lib/python3.6/dist-packages\n",
            "Requirement already satisfied: arviz>=0.4.1 in /usr/local/lib/python3.6/dist-packages (from pymc3==3.8) (0.6.1)\n",
            "Requirement already satisfied: theano>=1.0.4 in /usr/local/lib/python3.6/dist-packages (from pymc3==3.8) (1.0.4)\n",
            "Requirement already satisfied: numpy>=1.13.0 in /usr/local/lib/python3.6/dist-packages (from pymc3==3.8) (1.17.5)\n",
            "Requirement already satisfied: scipy>=0.18.1 in /usr/local/lib/python3.6/dist-packages (from pymc3==3.8) (1.4.1)\n",
            "Requirement already satisfied: pandas>=0.18.0 in /usr/local/lib/python3.6/dist-packages (from pymc3==3.8) (0.25.3)\n",
            "Requirement already satisfied: patsy>=0.4.0 in /usr/local/lib/python3.6/dist-packages (from pymc3==3.8) (0.5.1)\n",
            "Requirement already satisfied: fastprogress>=0.2.0 in /usr/local/lib/python3.6/dist-packages (from pymc3==3.8) (0.2.2)\n",
            "Requirement already satisfied: h5py>=2.7.0 in /usr/local/lib/python3.6/dist-packages (from pymc3==3.8) (2.8.0)\n",
            "Requirement already satisfied: matplotlib>=3.0 in /usr/local/lib/python3.6/dist-packages (from arviz>=0.4.1->pymc3==3.8) (3.1.3)\n",
            "Requirement already satisfied: netcdf4 in /usr/local/lib/python3.6/dist-packages (from arviz>=0.4.1->pymc3==3.8) (1.5.3)\n",
            "Requirement already satisfied: xarray>=0.11 in /usr/local/lib/python3.6/dist-packages (from arviz>=0.4.1->pymc3==3.8) (0.14.1)\n",
            "Requirement already satisfied: packaging in /usr/local/lib/python3.6/dist-packages (from arviz>=0.4.1->pymc3==3.8) (20.1)\n",
            "Requirement already satisfied: six>=1.9.0 in /usr/local/lib/python3.6/dist-packages (from theano>=1.0.4->pymc3==3.8) (1.12.0)\n",
            "Requirement already satisfied: python-dateutil>=2.6.1 in /usr/local/lib/python3.6/dist-packages (from pandas>=0.18.0->pymc3==3.8) (2.6.1)\n",
            "Requirement already satisfied: pytz>=2017.2 in /usr/local/lib/python3.6/dist-packages (from pandas>=0.18.0->pymc3==3.8) (2018.9)\n",
            "Requirement already satisfied: kiwisolver>=1.0.1 in /usr/local/lib/python3.6/dist-packages (from matplotlib>=3.0->arviz>=0.4.1->pymc3==3.8) (1.1.0)\n",
            "Requirement already satisfied: cycler>=0.10 in /usr/local/lib/python3.6/dist-packages (from matplotlib>=3.0->arviz>=0.4.1->pymc3==3.8) (0.10.0)\n",
            "Requirement already satisfied: pyparsing!=2.0.4,!=2.1.2,!=2.1.6,>=2.0.1 in /usr/local/lib/python3.6/dist-packages (from matplotlib>=3.0->arviz>=0.4.1->pymc3==3.8) (2.4.6)\n",
            "Requirement already satisfied: cftime in /usr/local/lib/python3.6/dist-packages (from netcdf4->arviz>=0.4.1->pymc3==3.8) (1.0.4.2)\n",
            "Requirement already satisfied: setuptools in /usr/local/lib/python3.6/dist-packages (from kiwisolver>=1.0.1->matplotlib>=3.0->arviz>=0.4.1->pymc3==3.8) (45.1.0)\n",
            "Building wheels for collected packages: pymc3\n",
            "  Building wheel for pymc3 (setup.py) ... \u001b[?25l\u001b[?25hdone\n",
            "  Created wheel for pymc3: filename=pymc3-3.8-cp36-none-any.whl size=40961907 sha256=7dbb690e78146e6468cfdc93e56734ff3331567a9e715aba171fccaad09cad20\n",
            "  Stored in directory: /tmp/pip-ephem-wheel-cache-hi5p6eze/wheels/a1/e3/71/a696f2af0dd40bccc0ce672d616d21cc9dd90dbdd3f03242f4\n",
            "Successfully built pymc3\n",
            "Collecting git+git://github.com/arviz-devs/arviz.git\n",
            "  Cloning git://github.com/arviz-devs/arviz.git to /tmp/pip-req-build-ykgyf51l\n",
            "  Running command git clone -q git://github.com/arviz-devs/arviz.git /tmp/pip-req-build-ykgyf51l\n",
            "  Installing build dependencies ... \u001b[?25l\u001b[?25hdone\n",
            "  Getting requirements to build wheel ... \u001b[?25l\u001b[?25hdone\n",
            "    Preparing wheel metadata ... \u001b[?25l\u001b[?25hdone\n",
            "Requirement already satisfied (use --upgrade to upgrade): arviz==0.6.1 from git+git://github.com/arviz-devs/arviz.git in /usr/local/lib/python3.6/dist-packages\n",
            "Requirement already satisfied: pandas>=0.23 in /usr/local/lib/python3.6/dist-packages (from arviz==0.6.1) (0.25.3)\n",
            "Requirement already satisfied: packaging in /usr/local/lib/python3.6/dist-packages (from arviz==0.6.1) (20.1)\n",
            "Requirement already satisfied: scipy>=0.19 in /usr/local/lib/python3.6/dist-packages (from arviz==0.6.1) (1.4.1)\n",
            "Requirement already satisfied: xarray>=0.11 in /usr/local/lib/python3.6/dist-packages (from arviz==0.6.1) (0.14.1)\n",
            "Requirement already satisfied: netcdf4 in /usr/local/lib/python3.6/dist-packages (from arviz==0.6.1) (1.5.3)\n",
            "Requirement already satisfied: numpy>=1.12 in /usr/local/lib/python3.6/dist-packages (from arviz==0.6.1) (1.17.5)\n",
            "Requirement already satisfied: matplotlib>=3.0 in /usr/local/lib/python3.6/dist-packages (from arviz==0.6.1) (3.1.3)\n",
            "Requirement already satisfied: pytz>=2017.2 in /usr/local/lib/python3.6/dist-packages (from pandas>=0.23->arviz==0.6.1) (2018.9)\n",
            "Requirement already satisfied: python-dateutil>=2.6.1 in /usr/local/lib/python3.6/dist-packages (from pandas>=0.23->arviz==0.6.1) (2.6.1)\n",
            "Requirement already satisfied: six in /usr/local/lib/python3.6/dist-packages (from packaging->arviz==0.6.1) (1.12.0)\n",
            "Requirement already satisfied: pyparsing>=2.0.2 in /usr/local/lib/python3.6/dist-packages (from packaging->arviz==0.6.1) (2.4.6)\n",
            "Requirement already satisfied: cftime in /usr/local/lib/python3.6/dist-packages (from netcdf4->arviz==0.6.1) (1.0.4.2)\n",
            "Requirement already satisfied: cycler>=0.10 in /usr/local/lib/python3.6/dist-packages (from matplotlib>=3.0->arviz==0.6.1) (0.10.0)\n",
            "Requirement already satisfied: kiwisolver>=1.0.1 in /usr/local/lib/python3.6/dist-packages (from matplotlib>=3.0->arviz==0.6.1) (1.1.0)\n",
            "Requirement already satisfied: setuptools in /usr/local/lib/python3.6/dist-packages (from kiwisolver>=1.0.1->matplotlib>=3.0->arviz==0.6.1) (45.1.0)\n",
            "Building wheels for collected packages: arviz\n",
            "  Building wheel for arviz (PEP 517) ... \u001b[?25l\u001b[?25hdone\n",
            "  Created wheel for arviz: filename=arviz-0.6.1-cp36-none-any.whl size=2601365 sha256=ce5858aa2f9e73c599eecc0741a08229e6089a4dacaf65287dc923b16d2058d3\n",
            "  Stored in directory: /tmp/pip-ephem-wheel-cache-xusf7l5t/wheels/a5/04/05/bff2d46cd1c6506f627675722c196cfb3f657296e6e3bfaf57\n",
            "Successfully built arviz\n"
          ],
          "name": "stdout"
        }
      ]
    },
    {
      "cell_type": "code",
      "metadata": {
        "id": "AdHT3gMT9wCu",
        "colab_type": "code",
        "outputId": "12a3353f-fa71-42a0-8047-0fe720d3656d",
        "colab": {
          "base_uri": "https://localhost:8080/",
          "height": 35
        }
      },
      "source": [
        "# Google Driveにマウント\n",
        "from google.colab import drive\n",
        "drive.mount('/content/gdrive')"
      ],
      "execution_count": 5,
      "outputs": [
        {
          "output_type": "stream",
          "text": [
            "Drive already mounted at /content/gdrive; to attempt to forcibly remount, call drive.mount(\"/content/gdrive\", force_remount=True).\n"
          ],
          "name": "stdout"
        }
      ]
    },
    {
      "cell_type": "code",
      "metadata": {
        "id": "WGu_tQMF92SI",
        "colab_type": "code",
        "outputId": "db7c61af-be97-4736-fedb-e9db1132d221",
        "colab": {
          "base_uri": "https://localhost:8080/",
          "height": 35
        }
      },
      "source": [
        "# pybayes フォルダへ移動。\n",
        "cd /content/gdrive/My Drive/Colab Notebooks/pybayes"
      ],
      "execution_count": 6,
      "outputs": [
        {
          "output_type": "stream",
          "text": [
            "/content/gdrive/My Drive/Colab Notebooks/pybayes\n"
          ],
          "name": "stdout"
        }
      ]
    },
    {
      "cell_type": "code",
      "metadata": {
        "id": "eebbM7Dc-2AT",
        "colab_type": "code",
        "outputId": "55a7757a-2e8a-4d2a-d76c-7418237c86cf",
        "colab": {
          "base_uri": "https://localhost:8080/",
          "height": 35
        }
      },
      "source": [
        "# pybayes フォルダにいることを確認。\n",
        "!pwd"
      ],
      "execution_count": 7,
      "outputs": [
        {
          "output_type": "stream",
          "text": [
            "/content/gdrive/My Drive/Colab Notebooks/pybayes\n"
          ],
          "name": "stdout"
        }
      ]
    },
    {
      "cell_type": "markdown",
      "metadata": {
        "id": "nTP5EeVV8Wv-",
        "colab_type": "text"
      },
      "source": [
        "----\n",
        "\n",
        "以上が google colab で写経するコードを動かすための準備。\n",
        "\n",
        "以下が本番。"
      ]
    },
    {
      "cell_type": "code",
      "metadata": {
        "id": "c856cpdx2vMA",
        "colab_type": "code",
        "colab": {}
      },
      "source": [
        "# -*- coding: utf-8 -*-\n",
        "\n",
        "import numpy as np\n",
        "import scipy.stats as st\n",
        "import scipy.linalg as la\n",
        "import pymc3 as pm\n",
        "import matplotlib.pyplot as plt"
      ],
      "execution_count": 0,
      "outputs": []
    },
    {
      "cell_type": "code",
      "metadata": {
        "id": "kt6XilmufLOg",
        "colab_type": "code",
        "colab": {}
      },
      "source": [
        "# 日本語フォントの設定\n",
        "\n",
        "from matplotlib.font_manager import FontProperties\n",
        "import sys\n",
        "if sys.platform.startswith('win'):\n",
        "  FontPath = 'C:\\\\Windows\\\\Fonts\\\\meiryo.ttc'\n",
        "elif sys.platform.startswith('darwin'):\n",
        "  FontPath = '/System/Library/Fonts/ヒラギノ角ゴシック W4.ttc'\n",
        "elif sys.platform.startswith('linux'):\n",
        "  FontPath = '/usr/share/fonts/truetype/takao-gothic/TakaoPGothic.ttf'\n",
        "else:\n",
        "  print('この Python コードが対応していない OS を使用しています。')\n",
        "  sys.exit()\n",
        "\n",
        "jpfont = FontProperties(fname=FontPath)"
      ],
      "execution_count": 0,
      "outputs": []
    },
    {
      "cell_type": "code",
      "metadata": {
        "id": "7_1E9f9AMeKz",
        "colab_type": "code",
        "colab": {}
      },
      "source": [
        "# 回帰モデルからのデータ生成\n",
        "\n",
        "n = 50\n",
        "np.random.seed(99)\n",
        "u = st.norm.rvs(scale=0.7, size=n)\n",
        "x = st.uniform.rvs(loc=-np.sqrt(3.0), scale=2.0*np.sqrt(3.0), size=n)\n",
        "y = 1.0 + 2.0 * x + u"
      ],
      "execution_count": 0,
      "outputs": []
    },
    {
      "cell_type": "code",
      "metadata": {
        "id": "rxNw-wGfM5mK",
        "colab_type": "code",
        "colab": {}
      },
      "source": [
        "# 回帰モデルの係数と誤差項の分散の事後分布の設定（自然共益事前分布）\n",
        "\n",
        "b0 = np.zeros(2)\n",
        "A0 = 0.2 * np.eye(2)\n",
        "nu0 = 5.0\n",
        "lam0 = 7.0\n",
        "h0 = np.sqrt(np.diag(lam0 / nu0 * la.inv(A0)))\n",
        "sd0 = np.sqrt(np.diag(la.inv(A0)))\n",
        "regression_conjugate = pm.Model()\n",
        "\n",
        "with regression_conjugate:\n",
        "  # 事前分布の設定\n",
        "  sigma2 = pm.InverseGamma('sigma2', alpha=0.5*nu0, beta=0.5*lam0)\n",
        "  sigma = pm.math.sqrt(sigma2)\n",
        "  a = pm.Normal('a', mu=b0[0], sd=sigma*sd0[0])\n",
        "  b = pm.Normal('b', mu=b0[1], sd=sigma*sd0[1])\n",
        "  # 尤度の設定\n",
        "  y_hat = a + b * x\n",
        "  likelihood = pm.Normal('y', mu=y_hat, sd=sigma, observed=y) "
      ],
      "execution_count": 0,
      "outputs": []
    },
    {
      "cell_type": "markdown",
      "metadata": {
        "id": "PYs0h2__U9SR",
        "colab_type": "text"
      },
      "source": [
        "一般に PyMC において with で始まる文に続くブロックの中では\n",
        "\n",
        "with 確率モデルのオブジェクト:\n",
        "\n",
        "　　　　事前分布の設定\n",
        "\n",
        "　　　　尤度の設定\n",
        "\n",
        "　　　　事後分布からのモンテカルロ標本の生成\n",
        "\n",
        "という手順で事後分布の設定と乱数生成を行う。\n",
        "\n",
        "with 文の中の代入 (=) は「定義式」を意味する。"
      ]
    },
    {
      "cell_type": "code",
      "metadata": {
        "id": "Xs6jW15ASRW9",
        "colab_type": "code",
        "outputId": "750e0672-f828-4180-b04e-0a8644609832",
        "colab": {
          "base_uri": "https://localhost:8080/",
          "height": 169
        }
      },
      "source": [
        "# 事後分布からのサンプリング\n",
        "\n",
        "n_draws = 5000\n",
        "n_chains = 4\n",
        "n_tune = 1000\n",
        "with regression_conjugate:\n",
        "  # 事後分布からのモンテカルロ標本の生成\n",
        "  trace = pm.sample(draws=n_draws, chains=n_chains, tune=n_tune,\n",
        "                    random_seed=123)\n"
      ],
      "execution_count": 12,
      "outputs": [
        {
          "output_type": "stream",
          "text": [
            "Auto-assigning NUTS sampler...\n",
            "Initializing NUTS using jitter+adapt_diag...\n",
            "Sequential sampling (4 chains in 1 job)\n",
            "NUTS: [b, a, sigma2]\n"
          ],
          "name": "stderr"
        },
        {
          "output_type": "display_data",
          "data": {
            "text/html": [
              "\n",
              "    <div>\n",
              "        <style>\n",
              "            /* Turns off some styling */\n",
              "            progress {\n",
              "                /* gets rid of default border in Firefox and Opera. */\n",
              "                border: none;\n",
              "                /* Needs to be in here for Safari polyfill so background images work as expected. */\n",
              "                background-size: auto;\n",
              "            }\n",
              "            .progress-bar-interrupted, .progress-bar-interrupted::-webkit-progress-bar {\n",
              "                background: #F44336;\n",
              "            }\n",
              "        </style>\n",
              "      <progress value='6000' class='' max='6000', style='width:300px; height:20px; vertical-align: middle;'></progress>\n",
              "      100.00% [6000/6000 00:06<00:00 Sampling chain 0, 0 divergences]\n",
              "    </div>\n",
              "    "
            ],
            "text/plain": [
              "<IPython.core.display.HTML object>"
            ]
          },
          "metadata": {
            "tags": []
          }
        },
        {
          "output_type": "display_data",
          "data": {
            "text/html": [
              "\n",
              "    <div>\n",
              "        <style>\n",
              "            /* Turns off some styling */\n",
              "            progress {\n",
              "                /* gets rid of default border in Firefox and Opera. */\n",
              "                border: none;\n",
              "                /* Needs to be in here for Safari polyfill so background images work as expected. */\n",
              "                background-size: auto;\n",
              "            }\n",
              "            .progress-bar-interrupted, .progress-bar-interrupted::-webkit-progress-bar {\n",
              "                background: #F44336;\n",
              "            }\n",
              "        </style>\n",
              "      <progress value='6000' class='' max='6000', style='width:300px; height:20px; vertical-align: middle;'></progress>\n",
              "      100.00% [6000/6000 00:05<00:00 Sampling chain 1, 0 divergences]\n",
              "    </div>\n",
              "    "
            ],
            "text/plain": [
              "<IPython.core.display.HTML object>"
            ]
          },
          "metadata": {
            "tags": []
          }
        },
        {
          "output_type": "display_data",
          "data": {
            "text/html": [
              "\n",
              "    <div>\n",
              "        <style>\n",
              "            /* Turns off some styling */\n",
              "            progress {\n",
              "                /* gets rid of default border in Firefox and Opera. */\n",
              "                border: none;\n",
              "                /* Needs to be in here for Safari polyfill so background images work as expected. */\n",
              "                background-size: auto;\n",
              "            }\n",
              "            .progress-bar-interrupted, .progress-bar-interrupted::-webkit-progress-bar {\n",
              "                background: #F44336;\n",
              "            }\n",
              "        </style>\n",
              "      <progress value='6000' class='' max='6000', style='width:300px; height:20px; vertical-align: middle;'></progress>\n",
              "      100.00% [6000/6000 00:06<00:00 Sampling chain 2, 0 divergences]\n",
              "    </div>\n",
              "    "
            ],
            "text/plain": [
              "<IPython.core.display.HTML object>"
            ]
          },
          "metadata": {
            "tags": []
          }
        },
        {
          "output_type": "display_data",
          "data": {
            "text/html": [
              "\n",
              "    <div>\n",
              "        <style>\n",
              "            /* Turns off some styling */\n",
              "            progress {\n",
              "                /* gets rid of default border in Firefox and Opera. */\n",
              "                border: none;\n",
              "                /* Needs to be in here for Safari polyfill so background images work as expected. */\n",
              "                background-size: auto;\n",
              "            }\n",
              "            .progress-bar-interrupted, .progress-bar-interrupted::-webkit-progress-bar {\n",
              "                background: #F44336;\n",
              "            }\n",
              "        </style>\n",
              "      <progress value='6000' class='' max='6000', style='width:300px; height:20px; vertical-align: middle;'></progress>\n",
              "      100.00% [6000/6000 00:05<00:00 Sampling chain 3, 0 divergences]\n",
              "    </div>\n",
              "    "
            ],
            "text/plain": [
              "<IPython.core.display.HTML object>"
            ]
          },
          "metadata": {
            "tags": []
          }
        }
      ]
    },
    {
      "cell_type": "markdown",
      "metadata": {
        "id": "3_2JY0WzXr8F",
        "colab_type": "text"
      },
      "source": [
        "事後分布からの乱数生成に使う関数が pm.sample()\n",
        "\n",
        "pm.sample(draws=生成回数, chains=乱数系列の数, tune=調整用の試行回数,\n",
        "random_seed=乱数の初期値)\n",
        "\n",
        "従って上では、4 * 5000 = 20000 個の乱数からなるモンテカルロ標本を作成している。\n",
        "\n",
        "tune は前処理のために何回乱数生成を試行するかを指定する。デフォルトで 500 回だが、ここでは多めにして 1000 回としている。\n",
        "\n",
        "オブジェクト trace は dict 型のデータ。前半の with 文で作成している、a, b, sigma2 に対応して、trace['a'], trace['b'], trace['sigma2'] が作成される。"
      ]
    },
    {
      "cell_type": "code",
      "metadata": {
        "id": "d1cRnPX93-P-",
        "colab_type": "code",
        "colab": {}
      },
      "source": [
        "# trace['a'] の中身をみてみる。\n",
        "# print(\"trace['a'] =\", trace['a'])\n",
        "# ==> trace['a'] = [1.03450531 1.03833069 0.97734164 ... 0.87058488 1.11277932 1.12417185]\n",
        "\n",
        "# trace['a'] のサイズをみてみる。\n",
        "# print(\"len(trace['a']) =\", len(trace['a']))\n",
        "# ==> len(trace['a']) = 20000"
      ],
      "execution_count": 0,
      "outputs": []
    },
    {
      "cell_type": "code",
      "metadata": {
        "id": "XmLZM9ve9Jra",
        "colab_type": "code",
        "colab": {
          "base_uri": "https://localhost:8080/",
          "height": 142
        },
        "outputId": "d9758757-c8b5-45c4-f7d8-5d29f789eaae"
      },
      "source": [
        "# trace の中のモンテカルロ標本から事後統計量を計算し表示\n",
        "#print(pm.summary(trace))\n",
        "# google colab では下だと整形して表示される。\n",
        "pm.summary(trace)\n",
        "\n",
        "# P108 と結果が違うぞ…どーなってるの？ (汗)"
      ],
      "execution_count": 14,
      "outputs": [
        {
          "output_type": "execute_result",
          "data": {
            "text/html": [
              "<div>\n",
              "<style scoped>\n",
              "    .dataframe tbody tr th:only-of-type {\n",
              "        vertical-align: middle;\n",
              "    }\n",
              "\n",
              "    .dataframe tbody tr th {\n",
              "        vertical-align: top;\n",
              "    }\n",
              "\n",
              "    .dataframe thead th {\n",
              "        text-align: right;\n",
              "    }\n",
              "</style>\n",
              "<table border=\"1\" class=\"dataframe\">\n",
              "  <thead>\n",
              "    <tr style=\"text-align: right;\">\n",
              "      <th></th>\n",
              "      <th>mean</th>\n",
              "      <th>sd</th>\n",
              "      <th>hpd_3%</th>\n",
              "      <th>hpd_97%</th>\n",
              "      <th>mcse_mean</th>\n",
              "      <th>mcse_sd</th>\n",
              "      <th>ess_mean</th>\n",
              "      <th>ess_sd</th>\n",
              "      <th>ess_bulk</th>\n",
              "      <th>ess_tail</th>\n",
              "      <th>r_hat</th>\n",
              "    </tr>\n",
              "  </thead>\n",
              "  <tbody>\n",
              "    <tr>\n",
              "      <th>a</th>\n",
              "      <td>0.999</td>\n",
              "      <td>0.110</td>\n",
              "      <td>0.790</td>\n",
              "      <td>1.203</td>\n",
              "      <td>0.001</td>\n",
              "      <td>0.001</td>\n",
              "      <td>22553.0</td>\n",
              "      <td>22418.0</td>\n",
              "      <td>22605.0</td>\n",
              "      <td>14315.0</td>\n",
              "      <td>1.0</td>\n",
              "    </tr>\n",
              "    <tr>\n",
              "      <th>b</th>\n",
              "      <td>2.003</td>\n",
              "      <td>0.113</td>\n",
              "      <td>1.784</td>\n",
              "      <td>2.210</td>\n",
              "      <td>0.001</td>\n",
              "      <td>0.001</td>\n",
              "      <td>23833.0</td>\n",
              "      <td>23833.0</td>\n",
              "      <td>24038.0</td>\n",
              "      <td>14322.0</td>\n",
              "      <td>1.0</td>\n",
              "    </tr>\n",
              "    <tr>\n",
              "      <th>sigma2</th>\n",
              "      <td>0.587</td>\n",
              "      <td>0.118</td>\n",
              "      <td>0.387</td>\n",
              "      <td>0.811</td>\n",
              "      <td>0.001</td>\n",
              "      <td>0.001</td>\n",
              "      <td>20258.0</td>\n",
              "      <td>19125.0</td>\n",
              "      <td>20659.0</td>\n",
              "      <td>13263.0</td>\n",
              "      <td>1.0</td>\n",
              "    </tr>\n",
              "  </tbody>\n",
              "</table>\n",
              "</div>"
            ],
            "text/plain": [
              "         mean     sd  hpd_3%  hpd_97%  ...   ess_sd  ess_bulk  ess_tail  r_hat\n",
              "a       0.999  0.110   0.790    1.203  ...  22418.0   22605.0   14315.0    1.0\n",
              "b       2.003  0.113   1.784    2.210  ...  23833.0   24038.0   14322.0    1.0\n",
              "sigma2  0.587  0.118   0.387    0.811  ...  19125.0   20659.0   13263.0    1.0\n",
              "\n",
              "[3 rows x 11 columns]"
            ]
          },
          "metadata": {
            "tags": []
          },
          "execution_count": 14
        }
      ]
    },
    {
      "cell_type": "code",
      "metadata": {
        "id": "AcHmNTkH3Qji",
        "colab_type": "code",
        "outputId": "d5b7c4f4-3a8f-41e6-e466-8f4912b39f93",
        "colab": {
          "base_uri": "https://localhost:8080/",
          "height": 333
        }
      },
      "source": [
        "# 事後分布のグラフの作成\n",
        "\n",
        "k = b0.size\n",
        "param_names = ['a', 'b', 'sigma2']\n",
        "labels = ['$\\\\alpha$', '$\\\\beta$', '$\\\\sigma^2$']\n",
        "\n",
        "fig, ax = plt.subplots(k+1, 2, num=1, figsize=(8, 1.5*(k+1)), \n",
        "                       facecolor='w')\n",
        "\n",
        "# 下のループ。事前分布や事後分布の計算とグラフ描画が渾然一体となってわかりにくいのぅ。\n",
        "for index in range(k+1):\n",
        "  mc_trace = trace[param_names[index]]\n",
        "\n",
        "  if index < k:\n",
        "    # 0 <= index < k\n",
        "    x_min = mc_trace.min() - 0.2 * np.abs(mc_trace.min())\n",
        "    x_max = mc_trace.max() + 0.2 * np.abs(mc_trace.max())\n",
        "    x = np.linspace(x_min, x_max, 250)\n",
        "    prior = st.norm.pdf(x, loc=b0[index], scale=sd0[index])\n",
        "  else:\n",
        "    # index == k つまり、label = sigma2、一番下のグラフの場合\n",
        "    x_min = 0.0\n",
        "    x_max = mc_trace.max() + 0.2 * np.abs(mc_trace.max())\n",
        "    x = np.linspace(x_min, x_max, 250)\n",
        "    prior = st.invgamma.pdf(x, 0.5*nu0, scale=0.5*lam0)\n",
        "\n",
        "    # 横軸のラベル\n",
        "    ax[index, 0].set_xlabel('乱数系列', fontproperties=jpfont)\n",
        "    ax[index, 1].set_xlabel('パラメータの分布', fontproperties=jpfont)\n",
        "  \n",
        "  # 左のグラフ：横軸は試行数 1 〜 n_draws*n_chains、縦軸はパラメータの値\n",
        "  ax[index, 0].plot(mc_trace, 'k-', linewidth=0.1)\n",
        "  ax[index, 0].set_xlim(1, n_draws*n_chains)\n",
        "  ax[index, 0].set_ylabel(labels[index], fontproperties=jpfont)\n",
        "\n",
        "  # 右のグラフ：横軸はパラメータの値の最小値〜最大値、縦軸は事前分布／事後分布\n",
        "  posterior = st.gaussian_kde(mc_trace).evaluate(x)\n",
        "  ax[index, 1].plot(x, posterior, 'k-', label='事後分布')\n",
        "  ax[index, 1].plot(x, prior, 'k:', label='事前分布')\n",
        "  ax[index, 1].set_xlim(x_min, x_max)\n",
        "  ax[index, 1].set_ylim(0, 1.1*posterior.max())\n",
        "  ax[index, 1].set_ylabel('確率密度', fontproperties=jpfont)\n",
        "  ax[index, 1].legend(loc='best', frameon=False, prop=jpfont)\n",
        "\n",
        "plt.tight_layout()\n",
        "plt.savefig('pybayes_fig_mcmc_reg_ex1.png', dpi=300)\n",
        "plt.show()"
      ],
      "execution_count": 15,
      "outputs": [
        {
          "output_type": "display_data",
          "data": {
            "image/png": "[encoded data removed]",
            "text/plain": [
              "<Figure size 576x324 with 6 Axes>"
            ]
          },
          "metadata": {
            "tags": []
          }
        }
      ]
    },
    {
      "cell_type": "code",
      "metadata": {
        "id": "Zxyf6-bp5Uhl",
        "colab_type": "code",
        "outputId": "38c2e08b-7ef0-4c29-c3ee-72b4e0fc87b3",
        "colab": {
          "base_uri": "https://localhost:8080/",
          "height": 35
        }
      },
      "source": [
        "# 画像ファイル pybayes_fig_mcmc_reg_ex1.png が保存されていることを確認。\n",
        "!ls pybayes_fig_mcmc_reg_ex1.png"
      ],
      "execution_count": 16,
      "outputs": [
        {
          "output_type": "stream",
          "text": [
            "pybayes_fig_mcmc_reg_ex1.png\n"
          ],
          "name": "stdout"
        }
      ]
    },
    {
      "cell_type": "code",
      "metadata": {
        "id": "4SHPQGtN5-Ym",
        "colab_type": "code",
        "colab": {}
      },
      "source": [
        ""
      ],
      "execution_count": 0,
      "outputs": []
    }
  ]
}