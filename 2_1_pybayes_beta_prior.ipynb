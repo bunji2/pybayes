{
  "nbformat": 4,
  "nbformat_minor": 0,
  "metadata": {
    "colab": {
      "name": "2.1_pybayes_beta_prior.ipynb",
      "provenance": []
    },
    "kernelspec": {
      "name": "python3",
      "display_name": "Python 3"
    }
  },
  "cells": [
    {
      "cell_type": "markdown",
      "metadata": {
        "id": "gH-oOtqdejzO",
        "colab_type": "text"
      },
      "source": [
        "P13 Python コード 2.1 pybayes_beta-prior.py\n",
        "ベルヌーイ分布の成功確率の事前分布の写経\n",
        "\n",
        "★事前に google colab に登録しておき、google drive の Colab Notebooks フォルダの下に pybayes というフォルダを作っておくこと。"
      ]
    },
    {
      "cell_type": "code",
      "metadata": {
        "id": "YKg6X9D_6wSF",
        "colab_type": "code",
        "outputId": "e8d8a3d0-50dd-4261-9022-799d67bf4049",
        "colab": {
          "base_uri": "https://localhost:8080/",
          "height": 233
        }
      },
      "source": [
        "# google colab のディストリビューションを確認しておく。Ubuntu のはず。\n",
        "!cat /etc/os-release"
      ],
      "execution_count": 1,
      "outputs": [
        {
          "output_type": "stream",
          "text": [
            "NAME=\"Ubuntu\"\n",
            "VERSION=\"18.04.3 LTS (Bionic Beaver)\"\n",
            "ID=ubuntu\n",
            "ID_LIKE=debian\n",
            "PRETTY_NAME=\"Ubuntu 18.04.3 LTS\"\n",
            "VERSION_ID=\"18.04\"\n",
            "HOME_URL=\"https://www.ubuntu.com/\"\n",
            "SUPPORT_URL=\"https://help.ubuntu.com/\"\n",
            "BUG_REPORT_URL=\"https://bugs.launchpad.net/ubuntu/\"\n",
            "PRIVACY_POLICY_URL=\"https://www.ubuntu.com/legal/terms-and-policies/privacy-policy\"\n",
            "VERSION_CODENAME=bionic\n",
            "UBUNTU_CODENAME=bionic\n"
          ],
          "name": "stdout"
        }
      ]
    },
    {
      "cell_type": "code",
      "metadata": {
        "id": "_t-3VMU9xMcY",
        "colab_type": "code",
        "outputId": "cebfd1e7-6826-4f83-caa6-dc782d3d899c",
        "colab": {
          "base_uri": "https://localhost:8080/",
          "height": 847
        }
      },
      "source": [
        "# google colab には標準で日本語フォントがインストールされないので、日本語フォントをインストールしておく\n",
        "!sudo apt install fonts-takao"
      ],
      "execution_count": 2,
      "outputs": [
        {
          "output_type": "stream",
          "text": [
            "Reading package lists... Done\n",
            "Building dependency tree       \n",
            "Reading state information... Done\n",
            "The following package was automatically installed and is no longer required:\n",
            "  libnvidia-common-430\n",
            "Use 'sudo apt autoremove' to remove it.\n",
            "The following additional packages will be installed:\n",
            "  fonts-takao-gothic fonts-takao-mincho fonts-takao-pgothic\n",
            "The following NEW packages will be installed:\n",
            "  fonts-takao fonts-takao-gothic fonts-takao-mincho fonts-takao-pgothic\n",
            "0 upgraded, 4 newly installed, 0 to remove and 25 not upgraded.\n",
            "Need to get 11.6 MB of archives.\n",
            "After this operation, 28.8 MB of additional disk space will be used.\n",
            "Get:1 http://archive.ubuntu.com/ubuntu bionic/universe amd64 fonts-takao-pgothic all 00303.01-2ubuntu1 [3,400 kB]\n",
            "Get:2 http://archive.ubuntu.com/ubuntu bionic/universe amd64 fonts-takao-gothic all 00303.01-2ubuntu1 [3,414 kB]\n",
            "Get:3 http://archive.ubuntu.com/ubuntu bionic/universe amd64 fonts-takao-mincho all 00303.01-2ubuntu1 [4,736 kB]\n",
            "Get:4 http://archive.ubuntu.com/ubuntu bionic/universe amd64 fonts-takao all 00303.01-2ubuntu1 [8,648 B]\n",
            "Fetched 11.6 MB in 2s (6,037 kB/s)\n",
            "debconf: unable to initialize frontend: Dialog\n",
            "debconf: (No usable dialog-like program is installed, so the dialog based frontend cannot be used. at /usr/share/perl5/Debconf/FrontEnd/Dialog.pm line 76, <> line 4.)\n",
            "debconf: falling back to frontend: Readline\n",
            "debconf: unable to initialize frontend: Readline\n",
            "debconf: (This frontend requires a controlling tty.)\n",
            "debconf: falling back to frontend: Teletype\n",
            "dpkg-preconfigure: unable to re-open stdin: \n",
            "Selecting previously unselected package fonts-takao-pgothic.\n",
            "(Reading database ... 134443 files and directories currently installed.)\n",
            "Preparing to unpack .../fonts-takao-pgothic_00303.01-2ubuntu1_all.deb ...\n",
            "Unpacking fonts-takao-pgothic (00303.01-2ubuntu1) ...\n",
            "Selecting previously unselected package fonts-takao-gothic.\n",
            "Preparing to unpack .../fonts-takao-gothic_00303.01-2ubuntu1_all.deb ...\n",
            "Unpacking fonts-takao-gothic (00303.01-2ubuntu1) ...\n",
            "Selecting previously unselected package fonts-takao-mincho.\n",
            "Preparing to unpack .../fonts-takao-mincho_00303.01-2ubuntu1_all.deb ...\n",
            "Unpacking fonts-takao-mincho (00303.01-2ubuntu1) ...\n",
            "Selecting previously unselected package fonts-takao.\n",
            "Preparing to unpack .../fonts-takao_00303.01-2ubuntu1_all.deb ...\n",
            "Unpacking fonts-takao (00303.01-2ubuntu1) ...\n",
            "Setting up fonts-takao-mincho (00303.01-2ubuntu1) ...\n",
            "update-alternatives: using /usr/share/fonts/truetype/takao-mincho/TakaoPMincho.ttf to provide /usr/share/fonts/truetype/fonts-japanese-mincho.ttf (fonts-japanese-mincho.ttf) in auto mode\n",
            "Setting up fonts-takao-pgothic (00303.01-2ubuntu1) ...\n",
            "update-alternatives: using /usr/share/fonts/truetype/takao-gothic/TakaoPGothic.ttf to provide /usr/share/fonts/truetype/fonts-japanese-gothic.ttf (fonts-japanese-gothic.ttf) in auto mode\n",
            "Setting up fonts-takao-gothic (00303.01-2ubuntu1) ...\n",
            "Setting up fonts-takao (00303.01-2ubuntu1) ...\n",
            "Processing triggers for fontconfig (2.12.6-0ubuntu2) ...\n"
          ],
          "name": "stdout"
        }
      ]
    },
    {
      "cell_type": "code",
      "metadata": {
        "id": "zPqhk1Vi3MDi",
        "colab_type": "code",
        "outputId": "1bdc3b03-1866-4e4b-ce5c-08097a913502",
        "colab": {
          "base_uri": "https://localhost:8080/",
          "height": 71
        }
      },
      "source": [
        "# 日本語フォントの確認。\n",
        "!ls /usr/share/fonts/truetype/\n",
        "# TakaoPGothic.ttf の有無を確認。\n",
        "!ls /usr/share/fonts/truetype/takao-gothic/"
      ],
      "execution_count": 5,
      "outputs": [
        {
          "output_type": "stream",
          "text": [
            "font-awesome\t\t   fonts-japanese-mincho.ttf  takao-gothic\n",
            "fonts-japanese-gothic.ttf  liberation\t\t      takao-mincho\n",
            "TakaoGothic.ttf  TakaoPGothic.ttf\n"
          ],
          "name": "stdout"
        }
      ]
    },
    {
      "cell_type": "code",
      "metadata": {
        "id": "AdHT3gMT9wCu",
        "colab_type": "code",
        "outputId": "b9990735-f7b8-4bdf-ed0d-c114b6560bd7",
        "colab": {
          "base_uri": "https://localhost:8080/",
          "height": 127
        }
      },
      "source": [
        "# Google Driveにマウント\n",
        "from google.colab import drive\n",
        "drive.mount('/content/gdrive')"
      ],
      "execution_count": 6,
      "outputs": [
        {
          "output_type": "stream",
          "text": [
            "Go to this URL in a browser: https://accounts.google.com/o/oauth2/auth?client_id=947318989803-6bn6qk8qdgf4n4g3pfee6491hc0brc4i.apps.googleusercontent.com&redirect_uri=urn%3aietf%3awg%3aoauth%3a2.0%3aoob&response_type=code&scope=email%20https%3a%2f%2fwww.googleapis.com%2fauth%2fdocs.test%20https%3a%2f%2fwww.googleapis.com%2fauth%2fdrive%20https%3a%2f%2fwww.googleapis.com%2fauth%2fdrive.photos.readonly%20https%3a%2f%2fwww.googleapis.com%2fauth%2fpeopleapi.readonly\n",
            "\n",
            "Enter your authorization code:\n",
            "··········\n",
            "Mounted at /content/gdrive\n"
          ],
          "name": "stdout"
        }
      ]
    },
    {
      "cell_type": "code",
      "metadata": {
        "id": "WGu_tQMF92SI",
        "colab_type": "code",
        "outputId": "79ae74f6-f859-4eb6-f761-a0139139feac",
        "colab": {
          "base_uri": "https://localhost:8080/",
          "height": 35
        }
      },
      "source": [
        "# pybayes フォルダへ移動。\n",
        "cd /content/gdrive/My Drive/Colab Notebooks/pybayes"
      ],
      "execution_count": 7,
      "outputs": [
        {
          "output_type": "stream",
          "text": [
            "/content/gdrive/My Drive/Colab Notebooks/pybayes\n"
          ],
          "name": "stdout"
        }
      ]
    },
    {
      "cell_type": "code",
      "metadata": {
        "id": "eebbM7Dc-2AT",
        "colab_type": "code",
        "outputId": "494f74c0-5a7d-4024-ba50-cd3af712c488",
        "colab": {
          "base_uri": "https://localhost:8080/",
          "height": 53
        }
      },
      "source": [
        "# pybayes フォルダにいることを確認。\n",
        "!ls"
      ],
      "execution_count": 8,
      "outputs": [
        {
          "output_type": "stream",
          "text": [
            "2.1_pybayes_beta_prior.ipynb\t     pybayes_fig_beta_distribution.png\n",
            "2.2_pybayes_beta_distribution.ipynb  pybayes_fig_beta_prior.png\n"
          ],
          "name": "stdout"
        }
      ]
    },
    {
      "cell_type": "code",
      "metadata": {
        "id": "c856cpdx2vMA",
        "colab_type": "code",
        "colab": {}
      },
      "source": [
        "# -*- coding: utf-8 -*-\n",
        "\n",
        "import numpy as np\n",
        "import scipy.stats as st\n",
        "import matplotlib.pyplot as plt"
      ],
      "execution_count": 0,
      "outputs": []
    },
    {
      "cell_type": "code",
      "metadata": {
        "id": "kt6XilmufLOg",
        "colab_type": "code",
        "colab": {}
      },
      "source": [
        "# 日本語フォントの設定\n",
        "\n",
        "from matplotlib.font_manager import FontProperties\n",
        "import sys\n",
        "if sys.platform.startswith('win'):\n",
        "  FontPath = 'C:\\\\Windows\\\\Fonts\\\\meiryo.ttc'\n",
        "elif sys.platform.startswith('darwin'):\n",
        "  FontPath = '/System/Library/Fonts/ヒラギノ角ゴシック W4.ttc'\n",
        "elif sys.platform.startswith('linux'):\n",
        "  FontPath = '/usr/share/fonts/truetype/takao-gothic/TakaoPGothic.ttf'\n",
        "else:\n",
        "  print('この Python コードが対応していない OS を使用しています。')\n",
        "  sys.exit()\n",
        "\n",
        "jpfont = FontProperties(fname=FontPath)"
      ],
      "execution_count": 0,
      "outputs": []
    },
    {
      "cell_type": "code",
      "metadata": {
        "id": "AcHmNTkH3Qji",
        "colab_type": "code",
        "outputId": "a0e0fb9d-78a9-4ca2-8766-1e631e2db0b8",
        "colab": {
          "base_uri": "https://localhost:8080/",
          "height": 280
        }
      },
      "source": [
        "# ベルヌーイ分布の成功確率 q の事前分布\n",
        "\n",
        "fig1 = plt.figure(num=1, facecolor='w')\n",
        "# コメント：変数 fig1 は何に使われる？\n",
        "\n",
        "\n",
        "# 成功確率 q を 0 〜 1 の間の 250 等分されたグリッドとして与える。\n",
        "q = np.linspace(0, 1, 250)\n",
        "#print(\"q =\", q)\n",
        "\n",
        "# グラフのプロット\n",
        "# plt.plot(x, y, option) x:横座標の NumPy配列 y:縦座標の NumPy配列\n",
        "plt.plot(q, st.uniform.pdf(q), 'k-')\n",
        "plt.plot(q, st.beta.pdf(q, 4, 6), 'k--')\n",
        "\n",
        "# 横軸と縦軸の範囲の指定\n",
        "plt.xlim(0, 1)\n",
        "plt.ylim(0, 2.8)\n",
        "\n",
        "# 凡例\n",
        "plt.legend(['(A) 一様分布 ($\\\\alpha$ = 1, $\\\\beta$ = 1)',\n",
        "            '(B) ベータ分布 ($\\\\alpha$ = 4, $\\\\beta$ = 5)'], \n",
        "           loc='best', frameon=False, prop=jpfont)\n",
        "\n",
        "# 縦軸と横軸のラベル\n",
        "plt.xlabel('成功確率 q', fontproperties=jpfont)\n",
        "plt.ylabel('確率密度', fontproperties=jpfont)\n",
        "\n",
        "# 画像をファイルに保存\n",
        "plt.savefig('pybayes_fig_beta_prior.png', dpi=300)\n",
        "\n",
        "# 画像の表示\n",
        "plt.show()"
      ],
      "execution_count": 15,
      "outputs": [
        {
          "output_type": "display_data",
          "data": {
            "image/png": "[encoded data removed]",
            "text/plain": [
              "<Figure size 432x288 with 1 Axes>"
            ]
          },
          "metadata": {
            "tags": []
          }
        }
      ]
    },
    {
      "cell_type": "code",
      "metadata": {
        "id": "Zxyf6-bp5Uhl",
        "colab_type": "code",
        "colab": {
          "base_uri": "https://localhost:8080/",
          "height": 53
        },
        "outputId": "168be64d-7f34-4da3-a29a-f3fde9bdaf51"
      },
      "source": [
        "# 画像ファイル pybayes_fig_beta_prior.png が保存されていることを確認。\n",
        "!ls"
      ],
      "execution_count": 16,
      "outputs": [
        {
          "output_type": "stream",
          "text": [
            "2.1_pybayes_beta_prior.ipynb\t     pybayes_fig_beta_distribution.png\n",
            "2.2_pybayes_beta_distribution.ipynb  pybayes_fig_beta_prior.png\n"
          ],
          "name": "stdout"
        }
      ]
    },
    {
      "cell_type": "code",
      "metadata": {
        "id": "w-HZQq8Wh8fo",
        "colab_type": "code",
        "colab": {}
      },
      "source": [
        ""
      ],
      "execution_count": 0,
      "outputs": []
    }
  ]
}