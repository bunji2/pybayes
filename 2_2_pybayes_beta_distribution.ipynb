{
  "nbformat": 4,
  "nbformat_minor": 0,
  "metadata": {
    "colab": {
      "name": "2.2_pybayes_beta_distribution.ipynb",
      "provenance": []
    },
    "kernelspec": {
      "name": "python3",
      "display_name": "Python 3"
    }
  },
  "cells": [
    {
      "cell_type": "markdown",
      "metadata": {
        "id": "4V5zI9kOngY4",
        "colab_type": "text"
      },
      "source": [
        "P22 Python コード 2.1 pybayes_beta_distribution.py\n",
        "ベータ分布の写経\n",
        "\n",
        "★事前に google colab に登録しておき、google drive の Colab Notebooks フォルダの下に pybayes というフォルダを作っておくこと。"
      ]
    },
    {
      "cell_type": "code",
      "metadata": {
        "id": "YKg6X9D_6wSF",
        "colab_type": "code",
        "outputId": "eca76734-39bb-444f-ee52-3270728a0855",
        "colab": {
          "base_uri": "https://localhost:8080/",
          "height": 233
        }
      },
      "source": [
        "# google colab のディストリビューションを確認しておく。Ubuntu のはず。\n",
        "!cat /etc/os-release"
      ],
      "execution_count": 1,
      "outputs": [
        {
          "output_type": "stream",
          "text": [
            "NAME=\"Ubuntu\"\n",
            "VERSION=\"18.04.3 LTS (Bionic Beaver)\"\n",
            "ID=ubuntu\n",
            "ID_LIKE=debian\n",
            "PRETTY_NAME=\"Ubuntu 18.04.3 LTS\"\n",
            "VERSION_ID=\"18.04\"\n",
            "HOME_URL=\"https://www.ubuntu.com/\"\n",
            "SUPPORT_URL=\"https://help.ubuntu.com/\"\n",
            "BUG_REPORT_URL=\"https://bugs.launchpad.net/ubuntu/\"\n",
            "PRIVACY_POLICY_URL=\"https://www.ubuntu.com/legal/terms-and-policies/privacy-policy\"\n",
            "VERSION_CODENAME=bionic\n",
            "UBUNTU_CODENAME=bionic\n"
          ],
          "name": "stdout"
        }
      ]
    },
    {
      "cell_type": "code",
      "metadata": {
        "id": "AdHT3gMT9wCu",
        "colab_type": "code",
        "outputId": "3195ba31-3a56-4715-d855-71fb9d34843b",
        "colab": {
          "base_uri": "https://localhost:8080/",
          "height": 127
        }
      },
      "source": [
        "# Google Driveにマウント\n",
        "from google.colab import drive\n",
        "drive.mount('/content/gdrive')"
      ],
      "execution_count": 2,
      "outputs": [
        {
          "output_type": "stream",
          "text": [
            "Go to this URL in a browser: https://accounts.google.com/o/oauth2/auth?client_id=947318989803-6bn6qk8qdgf4n4g3pfee6491hc0brc4i.apps.googleusercontent.com&redirect_uri=urn%3aietf%3awg%3aoauth%3a2.0%3aoob&response_type=code&scope=email%20https%3a%2f%2fwww.googleapis.com%2fauth%2fdocs.test%20https%3a%2f%2fwww.googleapis.com%2fauth%2fdrive%20https%3a%2f%2fwww.googleapis.com%2fauth%2fdrive.photos.readonly%20https%3a%2f%2fwww.googleapis.com%2fauth%2fpeopleapi.readonly\n",
            "\n",
            "Enter your authorization code:\n",
            "··········\n",
            "Mounted at /content/gdrive\n"
          ],
          "name": "stdout"
        }
      ]
    },
    {
      "cell_type": "code",
      "metadata": {
        "id": "WGu_tQMF92SI",
        "colab_type": "code",
        "outputId": "7a740dda-40fb-4a9b-e35b-e0cc221690f3",
        "colab": {
          "base_uri": "https://localhost:8080/",
          "height": 35
        }
      },
      "source": [
        "# pybayes フォルダへ移動。\n",
        "cd /content/gdrive/My Drive/Colab Notebooks/pybayes"
      ],
      "execution_count": 5,
      "outputs": [
        {
          "output_type": "stream",
          "text": [
            "/content/gdrive/My Drive/Colab Notebooks/pybayes\n"
          ],
          "name": "stdout"
        }
      ]
    },
    {
      "cell_type": "code",
      "metadata": {
        "id": "eebbM7Dc-2AT",
        "colab_type": "code",
        "outputId": "44ba3a26-d79b-4b7b-b5a9-6be492040359",
        "colab": {
          "base_uri": "https://localhost:8080/",
          "height": 53
        }
      },
      "source": [
        "# pybayes フォルダにいることを確認。\n",
        "!ls"
      ],
      "execution_count": 6,
      "outputs": [
        {
          "output_type": "stream",
          "text": [
            "2.1_pybayes_beta_prior.ipynb\t     pybayes_fig_beta_distribution.png\n",
            "2.2_pybayes_beta_distribution.ipynb  pybayes_fig_beta_prior.png\n"
          ],
          "name": "stdout"
        }
      ]
    },
    {
      "cell_type": "code",
      "metadata": {
        "id": "c856cpdx2vMA",
        "colab_type": "code",
        "colab": {}
      },
      "source": [
        "# -*- coding: utf-8 -*-\n",
        "\n",
        "import numpy as np\n",
        "import scipy.stats as st\n",
        "import matplotlib.pyplot as plt\n",
        "import numpy as np\n",
        "import scipy.stats as st\n",
        "import matplotlib.pyplot as plt"
      ],
      "execution_count": 0,
      "outputs": []
    },
    {
      "cell_type": "code",
      "metadata": {
        "id": "AcHmNTkH3Qji",
        "colab_type": "code",
        "outputId": "bc8f5cc4-1c14-48ae-8236-30312b23f143",
        "colab": {
          "base_uri": "https://localhost:8080/",
          "height": 297
        }
      },
      "source": [
        "# ベータ分布の確率密度関数\n",
        "\n",
        "# 成功確率 q を 0 〜 1 の間の 250 等分されたグリッドとして与える。\n",
        "q = np.linspace(0, 1, 250)\n",
        "#print(\"q =\", q)\n",
        "\n",
        "value_a = np.array([0.5, 1.0, 2.0, 4.0])\n",
        "value_b = np.array([0.5, 1.0, 2.0, 4.0])\n",
        "\n",
        "# 行数＝value_a の要素数\n",
        "rows = value_a.shape[0]\n",
        "# 列数＝value_b の要素数\n",
        "cols = value_b.shape[0]\n",
        "\n",
        "# 図のオブジェクト, 枠のオブジェクト = plt.subplots(行数, 列数, オプション)\n",
        "fig, ax = plt.subplots(rows, cols, sharex='all', sharey='all',\n",
        "                       num=1, facecolor='w')\n",
        "\n",
        "ax[0, 0].set_xlim(0.0, 1.0)\n",
        "ax[0, 0].set_ylim(0.0, 4.5)\n",
        "\n",
        "# 各行ごとの繰り返し\n",
        "for row_index in range(rows):\n",
        "  a = value_a[row_index]\n",
        "\n",
        "  # 各行の左端の軸のラベル指定\n",
        "  ax[row_index, 0].set_ylabel('$\\\\alpha$ = {0:3.1f}'.format(a),\n",
        "                              fontsize=12)\n",
        "  # 各列ごとの繰り返し\n",
        "  for column_index in range(cols):\n",
        "    b = value_b[column_index]\n",
        "\n",
        "    # 各行・各列のグラフをプロット\n",
        "    ax[row_index, column_index].plot(q, st.beta.pdf(q, a, b), 'k-')\n",
        "    # 各列の最上段の軸のタイトル指定\n",
        "    if row_index == 0:\n",
        "      ax[0, column_index].set_title('$\\\\beta$ = {0:3.1f}'.format(b),\n",
        "                                    fontsize=12)\n",
        "plt.tight_layout()\n",
        "plt.savefig('pybayes_fig_beta_distribution.png', dpi=300)\n",
        "plt.show()"
      ],
      "execution_count": 11,
      "outputs": [
        {
          "output_type": "display_data",
          "data": {
            "image/png": "[encoded data removed]",
            "text/plain": [
              "<Figure size 432x288 with 16 Axes>"
            ]
          },
          "metadata": {
            "tags": []
          }
        }
      ]
    },
    {
      "cell_type": "code",
      "metadata": {
        "id": "Zxyf6-bp5Uhl",
        "colab_type": "code",
        "colab": {
          "base_uri": "https://localhost:8080/",
          "height": 53
        },
        "outputId": "25885380-d6c6-4727-bab5-6d75a0484538"
      },
      "source": [
        "# 画像ファイルpybayes_fig_beta_distribution.png が保存されていることを確認。\n",
        "!ls"
      ],
      "execution_count": 12,
      "outputs": [
        {
          "output_type": "stream",
          "text": [
            "2.1_pybayes_beta_prior.ipynb\t     pybayes_fig_beta_distribution.png\n",
            "2.2_pybayes_beta_distribution.ipynb  pybayes_fig_beta_prior.png\n"
          ],
          "name": "stdout"
        }
      ]
    },
    {
      "cell_type": "code",
      "metadata": {
        "id": "Zz7C4u2HpS3k",
        "colab_type": "code",
        "colab": {}
      },
      "source": [
        ""
      ],
      "execution_count": 0,
      "outputs": []
    }
  ]
}