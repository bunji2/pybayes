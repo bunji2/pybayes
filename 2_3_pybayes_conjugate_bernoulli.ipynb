{
  "nbformat": 4,
  "nbformat_minor": 0,
  "metadata": {
    "colab": {
      "name": "2.3_pybayes_conjugate_bernoulli.ipynb",
      "provenance": [],
      "collapsed_sections": []
    },
    "kernelspec": {
      "name": "python3",
      "display_name": "Python 3"
    }
  },
  "cells": [
    {
      "cell_type": "markdown",
      "metadata": {
        "id": "gH-oOtqdejzO",
        "colab_type": "text"
      },
      "source": [
        "P13 Python コード 2.1 pybayes_beta-prior.py\n",
        "ベルヌーイ分布の成功確率の事前分布の写経\n",
        "\n",
        "★事前に google colab に登録しておき、google drive の Colab Notebooks フォルダの下に pybayes というフォルダを作っておくこと。"
      ]
    },
    {
      "cell_type": "code",
      "metadata": {
        "id": "YKg6X9D_6wSF",
        "colab_type": "code",
        "outputId": "c00d1299-1ee8-4279-9f92-915fcbdfb5f2",
        "colab": {
          "base_uri": "https://localhost:8080/",
          "height": 233
        }
      },
      "source": [
        "# google colab のディストリビューションを確認しておく。Ubuntu のはず。\n",
        "!cat /etc/os-release"
      ],
      "execution_count": 28,
      "outputs": [
        {
          "output_type": "stream",
          "text": [
            "NAME=\"Ubuntu\"\n",
            "VERSION=\"18.04.3 LTS (Bionic Beaver)\"\n",
            "ID=ubuntu\n",
            "ID_LIKE=debian\n",
            "PRETTY_NAME=\"Ubuntu 18.04.3 LTS\"\n",
            "VERSION_ID=\"18.04\"\n",
            "HOME_URL=\"https://www.ubuntu.com/\"\n",
            "SUPPORT_URL=\"https://help.ubuntu.com/\"\n",
            "BUG_REPORT_URL=\"https://bugs.launchpad.net/ubuntu/\"\n",
            "PRIVACY_POLICY_URL=\"https://www.ubuntu.com/legal/terms-and-policies/privacy-policy\"\n",
            "VERSION_CODENAME=bionic\n",
            "UBUNTU_CODENAME=bionic\n"
          ],
          "name": "stdout"
        }
      ]
    },
    {
      "cell_type": "code",
      "metadata": {
        "id": "_t-3VMU9xMcY",
        "colab_type": "code",
        "outputId": "b63c3c40-77a7-478e-d0a4-945b765c0d5c",
        "colab": {
          "base_uri": "https://localhost:8080/",
          "height": 161
        }
      },
      "source": [
        "# google colab には標準で日本語フォントがインストールされないので、日本語フォントをインストールしておく\n",
        "!sudo apt install fonts-takao"
      ],
      "execution_count": 29,
      "outputs": [
        {
          "output_type": "stream",
          "text": [
            "Reading package lists... Done\n",
            "Building dependency tree       \n",
            "Reading state information... Done\n",
            "fonts-takao is already the newest version (00303.01-2ubuntu1).\n",
            "The following package was automatically installed and is no longer required:\n",
            "  libnvidia-common-430\n",
            "Use 'sudo apt autoremove' to remove it.\n",
            "0 upgraded, 0 newly installed, 0 to remove and 25 not upgraded.\n"
          ],
          "name": "stdout"
        }
      ]
    },
    {
      "cell_type": "code",
      "metadata": {
        "id": "zPqhk1Vi3MDi",
        "colab_type": "code",
        "outputId": "42d9a65b-e954-4a68-d575-7f59b1e05a8c",
        "colab": {
          "base_uri": "https://localhost:8080/",
          "height": 71
        }
      },
      "source": [
        "# 日本語フォントの確認。\n",
        "!ls /usr/share/fonts/truetype/\n",
        "# TakaoPGothic.ttf の有無を確認。\n",
        "!ls /usr/share/fonts/truetype/takao-gothic/"
      ],
      "execution_count": 31,
      "outputs": [
        {
          "output_type": "stream",
          "text": [
            "font-awesome\t\t   fonts-japanese-mincho.ttf  takao-gothic\n",
            "fonts-japanese-gothic.ttf  liberation\t\t      takao-mincho\n",
            "TakaoGothic.ttf  TakaoPGothic.ttf\n"
          ],
          "name": "stdout"
        }
      ]
    },
    {
      "cell_type": "code",
      "metadata": {
        "id": "AdHT3gMT9wCu",
        "colab_type": "code",
        "outputId": "9a09f03d-8fd3-47c4-8512-cbe9f08427c6",
        "colab": {
          "base_uri": "https://localhost:8080/",
          "height": 35
        }
      },
      "source": [
        "# Google Driveにマウント\n",
        "from google.colab import drive\n",
        "drive.mount('/content/gdrive')"
      ],
      "execution_count": 32,
      "outputs": [
        {
          "output_type": "stream",
          "text": [
            "Drive already mounted at /content/gdrive; to attempt to forcibly remount, call drive.mount(\"/content/gdrive\", force_remount=True).\n"
          ],
          "name": "stdout"
        }
      ]
    },
    {
      "cell_type": "code",
      "metadata": {
        "id": "WGu_tQMF92SI",
        "colab_type": "code",
        "outputId": "5122771d-4507-427b-f962-b5474fdb5ce3",
        "colab": {
          "base_uri": "https://localhost:8080/",
          "height": 35
        }
      },
      "source": [
        "# pybayes フォルダへ移動。\n",
        "cd /content/gdrive/My Drive/Colab Notebooks/pybayes"
      ],
      "execution_count": 33,
      "outputs": [
        {
          "output_type": "stream",
          "text": [
            "/content/gdrive/My Drive/Colab Notebooks/pybayes\n"
          ],
          "name": "stdout"
        }
      ]
    },
    {
      "cell_type": "code",
      "metadata": {
        "id": "eebbM7Dc-2AT",
        "colab_type": "code",
        "outputId": "6afc7c5f-b023-4e57-9d44-770fbe142d13",
        "colab": {
          "base_uri": "https://localhost:8080/",
          "height": 71
        }
      },
      "source": [
        "# pybayes フォルダにいることを確認。\n",
        "!ls"
      ],
      "execution_count": 34,
      "outputs": [
        {
          "output_type": "stream",
          "text": [
            "2.1_pybayes_beta_prior.ipynb\t       pybayes_fig_beta_distribution.png\n",
            "2.2_pybayes_beta_distribution.ipynb    pybayes_fig_beta_prior.png\n",
            "2.3_pybayes_conjugate_bernoulli.ipynb\n"
          ],
          "name": "stdout"
        }
      ]
    },
    {
      "cell_type": "code",
      "metadata": {
        "id": "c856cpdx2vMA",
        "colab_type": "code",
        "colab": {}
      },
      "source": [
        "# -*- coding: utf-8 -*-\n",
        "\n",
        "import numpy as np\n",
        "import scipy.stats as st\n",
        "import scipy.optimize as opt\n",
        "import pandas as pd\n",
        "import matplotlib.pyplot as plt"
      ],
      "execution_count": 0,
      "outputs": []
    },
    {
      "cell_type": "code",
      "metadata": {
        "id": "kt6XilmufLOg",
        "colab_type": "code",
        "colab": {}
      },
      "source": [
        "# 日本語フォントの設定\n",
        "\n",
        "from matplotlib.font_manager import FontProperties\n",
        "import sys\n",
        "if sys.platform.startswith('win'):\n",
        "  FontPath = 'C:\\\\Windows\\\\Fonts\\\\meiryo.ttc'\n",
        "elif sys.platform.startswith('darwin'):\n",
        "  FontPath = '/System/Library/Fonts/ヒラギノ角ゴシック W4.ttc'\n",
        "elif sys.platform.startswith('linux'):\n",
        "  FontPath = '/usr/share/fonts/truetype/takao-gothic/TakaoPGothic.ttf'\n",
        "else:\n",
        "  print('この Python コードが対応していない OS を使用しています。')\n",
        "  sys.exit()\n",
        "\n",
        "jpfont = FontProperties(fname=FontPath)"
      ],
      "execution_count": 0,
      "outputs": []
    },
    {
      "cell_type": "code",
      "metadata": {
        "id": "Y_uIoQW8zHKO",
        "colab_type": "code",
        "colab": {}
      },
      "source": [
        "# ベルヌーイ分布の成功確率に関するベイズ推論\n",
        "# ベータ分布の HPD 区間の計算\n",
        "\n",
        "def beta_hpdi(ci0, alpha, beta, prob):\n",
        "  def hpdi_conditions(v, a, b, p):\n",
        "    eq1 = st.beta.cdf(v[1], a, b) - st.beta.cdf(v[0], a, b) - p\n",
        "    eq2 = st.beta.pdf(v[1], a, b) - st.beta.pdf(v[0], a, b)\n",
        "    return np.hstack((eq1, eq2))\n",
        "  return opt.root(hpdi_conditions, ci0, args=(alpha, beta, prob)).x"
      ],
      "execution_count": 0,
      "outputs": []
    },
    {
      "cell_type": "code",
      "metadata": {
        "id": "2NxQy1pf0A3b",
        "colab_type": "code",
        "colab": {}
      },
      "source": [
        "# ベルヌーイ分布の成功確率の事後統計量の計算\n",
        "\n",
        "def bernoulli_stats(data, a0, b0, prob):\n",
        "  n = data.size\n",
        "  sum_data = data.sum()\n",
        "  a = sum_data + a0\n",
        "  b = n - sum_data + b0\n",
        "\n",
        "  mean_pi = st.beta.mean(a, b)\n",
        "  median_pi = st.beta.median(a, b)\n",
        "  mode_pi = (a - 1.0) / (a + b - 2.0)\n",
        "\n",
        "  sd_pi = st.beta.std(a, b)\n",
        "  ci_pi = st.beta.interval(prob, a, b)\n",
        "  hpdi_pi = beta_hpdi(ci_pi, a, b, prob)\n",
        "  stats = np.hstack((mean_pi, median_pi, mode_pi, sd_pi, ci_pi, hpdi_pi))\n",
        "\n",
        "  stats = stats.reshape((1, 8))\n",
        "  stats_string = ['平均', '中央値', '再頻値', '標準偏差', '信用区間(下限))', \n",
        "                  '信用区間(上限)', 'HPD区間(下限)', 'HPD区間(上限)']\n",
        "  param_string = ['成功確率 q']\n",
        "  results = pd.DataFrame(stats, index=param_string, columns=stats_string)\n",
        "  return results, a, b"
      ],
      "execution_count": 0,
      "outputs": []
    },
    {
      "cell_type": "code",
      "metadata": {
        "id": "cPPKqMzQ1gw4",
        "colab_type": "code",
        "colab": {}
      },
      "source": [
        "# ベルヌーイ分布からのデータの生成\n",
        "\n",
        "p = 0.25\n",
        "n = 50\n",
        "np.random.seed(99)\n",
        "data = st.bernoulli.rvs(p, size=n)"
      ],
      "execution_count": 0,
      "outputs": []
    },
    {
      "cell_type": "code",
      "metadata": {
        "id": "CQLWHk_N1ugG",
        "colab_type": "code",
        "colab": {}
      },
      "source": [
        "# 事後統計量の計算\n",
        "\n",
        "a0 = 1.0\n",
        "b0 = 1.0\n",
        "prob = 0.95\n",
        "results, a, b = bernoulli_stats(data, a0, b0, prob)\n",
        "#print(results.to_string(float_format='{:,.4f}'.format))"
      ],
      "execution_count": 0,
      "outputs": []
    },
    {
      "cell_type": "code",
      "metadata": {
        "id": "ZA1CBnNZ2Uj-",
        "colab_type": "code",
        "colab": {
          "base_uri": "https://localhost:8080/",
          "height": 80
        },
        "outputId": "63b658b2-a743-40c7-9096-99f760ff87b4"
      },
      "source": [
        "# 事後統計量の表示 (colab ではこちらのほうが整形される)\n",
        "results"
      ],
      "execution_count": 52,
      "outputs": [
        {
          "output_type": "execute_result",
          "data": {
            "text/html": [
              "<div>\n",
              "<style scoped>\n",
              "    .dataframe tbody tr th:only-of-type {\n",
              "        vertical-align: middle;\n",
              "    }\n",
              "\n",
              "    .dataframe tbody tr th {\n",
              "        vertical-align: top;\n",
              "    }\n",
              "\n",
              "    .dataframe thead th {\n",
              "        text-align: right;\n",
              "    }\n",
              "</style>\n",
              "<table border=\"1\" class=\"dataframe\">\n",
              "  <thead>\n",
              "    <tr style=\"text-align: right;\">\n",
              "      <th></th>\n",
              "      <th>平均</th>\n",
              "      <th>中央値</th>\n",
              "      <th>再頻値</th>\n",
              "      <th>標準偏差</th>\n",
              "      <th>信用区間(下限))</th>\n",
              "      <th>信用区間(上限)</th>\n",
              "      <th>HPD区間(下限)</th>\n",
              "      <th>HPD区間(上限)</th>\n",
              "    </tr>\n",
              "  </thead>\n",
              "  <tbody>\n",
              "    <tr>\n",
              "      <th>成功確率 q</th>\n",
              "      <td>0.288462</td>\n",
              "      <td>0.285732</td>\n",
              "      <td>0.28</td>\n",
              "      <td>0.062231</td>\n",
              "      <td>0.17488</td>\n",
              "      <td>0.417448</td>\n",
              "      <td>0.169919</td>\n",
              "      <td>0.411528</td>\n",
              "    </tr>\n",
              "  </tbody>\n",
              "</table>\n",
              "</div>"
            ],
            "text/plain": [
              "              平均       中央値   再頻値  ...  信用区間(上限)  HPD区間(下限)  HPD区間(上限)\n",
              "成功確率 q  0.288462  0.285732  0.28  ...  0.417448   0.169919   0.411528\n",
              "\n",
              "[1 rows x 8 columns]"
            ]
          },
          "metadata": {
            "tags": []
          },
          "execution_count": 52
        }
      ]
    },
    {
      "cell_type": "code",
      "metadata": {
        "id": "AcHmNTkH3Qji",
        "colab_type": "code",
        "outputId": "8cea334d-024d-4402-e28b-8a1e7fb8913e",
        "colab": {
          "base_uri": "https://localhost:8080/",
          "height": 284
        }
      },
      "source": [
        "# 事後分布のグラフの作成\n",
        "\n",
        "fig1 = plt.figure(num=1, facecolor='w')\n",
        "# コメント：変数 fig1 は何に使われる？\n",
        "\n",
        "# 成功確率 q を 0 〜 1 の間の 250 等分されたグリッドとして与える。\n",
        "q = np.linspace(0, 1, 250)\n",
        "#print(\"q =\", q)\n",
        "\n",
        "# グラフのプロット\n",
        "# plt.plot(x, y, option) x:横座標の NumPy配列 y:縦座標の NumPy配列\n",
        "plt.plot(q, st.beta.pdf(q, a, b), 'k-', label='事後分布')\n",
        "plt.plot(q, st.beta.pdf(q, a0, b0), 'k:', label='事前分布')\n",
        "\n",
        "# 横軸と縦軸の範囲の指定\n",
        "plt.xlim(0, 1)\n",
        "plt.ylim(0, 7)\n",
        "\n",
        "# 縦軸と横軸のラベル\n",
        "plt.xlabel('成功確率 q', fontproperties=jpfont)\n",
        "plt.ylabel('確率密度', fontproperties=jpfont)\n",
        "\n",
        "# 凡例\n",
        "plt.legend(loc='best', frameon=False, prop=jpfont)\n",
        "\n",
        "# 画像をファイルに保存\n",
        "plt.savefig('pybayes_fig_bernoulli_posterior.png', dpi=300)\n",
        "\n",
        "# 画像の表示\n",
        "plt.show()"
      ],
      "execution_count": 54,
      "outputs": [
        {
          "output_type": "display_data",
          "data": {
            "image/png": "[encoded data removed]",
            "text/plain": [
              "<Figure size 432x288 with 1 Axes>"
            ]
          },
          "metadata": {
            "tags": []
          }
        }
      ]
    },
    {
      "cell_type": "code",
      "metadata": {
        "id": "w-HZQq8Wh8fo",
        "colab_type": "code",
        "colab": {
          "base_uri": "https://localhost:8080/",
          "height": 297
        },
        "outputId": "1c7406a6-93b1-4f20-e931-59907449aba7"
      },
      "source": [
        "# 事前分布とデータの累積が事後分布の形状に与える影響の可視化\n",
        "\n",
        "np.random.seed(99)\n",
        "data = st.bernoulli.rvs(p, size=250)\n",
        "value_size = np.array([10, 50, 250])\n",
        "value_a0 = np.array([1.0, 6.0])\n",
        "value_b0 = np.array([1.0, 4.0])\n",
        "styles = [':', '-.', '-']\n",
        "fig2, ax2 = plt.subplots(1, 2, sharey='all', sharex='all',\n",
        "                         num=2, figsize=(8, 4), facecolor='w')\n",
        "ax2[0].set_xlim(0, 1)\n",
        "ax2[0].set_ylim(0, 15.5)\n",
        "ax2[0].set_ylabel('確率密度', fontproperties=jpfont)\n",
        "\n",
        "for index in range(2):\n",
        "  style_index = 0\n",
        "  a0_i = value_a0[index]\n",
        "  b0_i = value_b0[index]\n",
        "  ax2[index].plot(q, st.beta.pdf(q, a0_i, b0_i), color='k',\n",
        "                  linestyle=styles[style_index],\n",
        "                  label='事前分布 Beta({0:<3.1f})'.format(a0_i, b0_i))\n",
        "  for n_j in value_size:\n",
        "    # style_index += 1\n",
        "    # [FIX#1]↑この行がここにあるとエラーになるよ\n",
        "    #print('style_index=', style_index, ' len(styles)=', len(styles))\n",
        "    sum_data = np.sum(data[:n_j])\n",
        "    a_j = sum_data + a0_i\n",
        "    b_j = n_j - sum_data + b0_i\n",
        "    ax2[index].plot(q, st.beta.pdf(q, a_j, b_j), color='k',\n",
        "                    linestyle=styles[style_index],\n",
        "                    label='事後分布 (n = {0:<3d})'.format(n_j))\n",
        "    ax2[index].set_xlabel('成功確率 q', fontproperties=jpfont)\n",
        "    ax2[index].legend(loc='best', frameon=False, prop=jpfont)\n",
        "    style_index += 1\n",
        "    # [FIX#1]↑ここに移動したよ\n",
        "plt.tight_layout()\n",
        "plt.savefig('pybayes_fig_bernoulli_posterior_convergence.png', dpi=300)\n",
        "plt.show()"
      ],
      "execution_count": 62,
      "outputs": [
        {
          "output_type": "display_data",
          "data": {
            "image/png": "[encoded data removed]",
            "text/plain": [
              "<Figure size 576x288 with 2 Axes>"
            ]
          },
          "metadata": {
            "tags": []
          }
        }
      ]
    },
    {
      "cell_type": "code",
      "metadata": {
        "id": "Zxyf6-bp5Uhl",
        "colab_type": "code",
        "outputId": "0f92c371-03f5-43f3-d266-702b6240879e",
        "colab": {
          "base_uri": "https://localhost:8080/",
          "height": 143
        }
      },
      "source": [
        "# 画像ファイル pybayes_fig_bernoulli_posterior.png と pybayes_fig_bernoulli_posterior_convergence.png が保存されていることを確認。\n",
        "!ls"
      ],
      "execution_count": 63,
      "outputs": [
        {
          "output_type": "stream",
          "text": [
            "2.1_pybayes_beta_prior.ipynb\n",
            "2.2_pybayes_beta_distribution.ipynb\n",
            "2.3_pybayes_conjugate_bernoulli.ipynb\n",
            "pybayes_fig_bernoulli_posterior_convergence.png\n",
            "pybayes_fig_bernoulli_posterior.png\n",
            "pybayes_fig_beta_distribution.png\n",
            "pybayes_fig_beta_prior.png\n"
          ],
          "name": "stdout"
        }
      ]
    },
    {
      "cell_type": "code",
      "metadata": {
        "id": "4SHPQGtN5-Ym",
        "colab_type": "code",
        "colab": {}
      },
      "source": [
        ""
      ],
      "execution_count": 0,
      "outputs": []
    }
  ]
}